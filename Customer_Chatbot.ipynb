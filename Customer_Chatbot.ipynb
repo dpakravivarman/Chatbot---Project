{
  "nbformat": 4,
  "nbformat_minor": 0,
  "metadata": {
    "colab": {
      "provenance": []
    },
    "kernelspec": {
      "name": "python3",
      "display_name": "Python 3"
    },
    "language_info": {
      "name": "python"
    }
  },
  "cells": [
    {
      "cell_type": "code",
      "execution_count": 2,
      "metadata": {
        "id": "8RJApkl--DiW"
      },
      "outputs": [],
      "source": [
        "intents = {\n",
        "    \"greeting\": {\n",
        "        \"patterns\": [\"hello\", \"hi\", \"good morning\", \"good evening\"],\n",
        "        \"responses\": [\"Hello! How can I help you today?\", \"Hi there! What can I do for you?\"]\n",
        "    },\n",
        "    \"goodbye\": {\n",
        "        \"patterns\": [\"bye\", \"see you\", \"goodbye\"],\n",
        "        \"responses\": [\"Goodbye! Have a nice day.\", \"See you later!\"]\n",
        "    },\n",
        "    \"thanks\": {\n",
        "        \"patterns\": [\"thank you\", \"thanks\", \"thx\"],\n",
        "        \"responses\": [\"You're welcome!\", \"Glad I could help!\"]\n",
        "    },\n",
        "    \"hours\": {\n",
        "        \"patterns\": [\"what are your hours\", \"working hours\", \"opening time\", \"closing time\"],\n",
        "        \"responses\": [\"We are open from 9 AM to 5 PM, Monday to Friday.\"]\n",
        "    },\n",
        "    \"default\": {\n",
        "        \"responses\": [\"Sorry, I didn't understand that. Can you rephrase?\"]\n",
        "    }\n",
        "}\n"
      ]
    },
    {
      "cell_type": "code",
      "source": [
        "def get_intent(user_input):\n",
        "    user_input = user_input.lower()\n",
        "    for intent, data in intents.items():\n",
        "        for pattern in data[\"patterns\"]:\n",
        "            if pattern in user_input:\n",
        "                return intent\n",
        "    return \"default\"\n"
      ],
      "metadata": {
        "id": "hPwtBREt-RSM"
      },
      "execution_count": 1,
      "outputs": []
    },
    {
      "cell_type": "code",
      "source": [
        "import random\n",
        "\n",
        "def get_response(user_input):\n",
        "    intent = get_intent(user_input)\n",
        "    return random.choice(intents[intent][\"responses\"])\n"
      ],
      "metadata": {
        "id": "1au5WC-2-eHx"
      },
      "execution_count": 3,
      "outputs": []
    },
    {
      "cell_type": "code",
      "source": [
        "while True:\n",
        "    user_input = input(\"You: \")\n",
        "    if user_input.lower() in [\"exit\", \"quit\"]:\n",
        "        print(\"Bot: Goodbye!\")\n",
        "        break\n",
        "    response = get_response(user_input)\n",
        "    print(\"Bot:\", response)\n"
      ],
      "metadata": {
        "colab": {
          "base_uri": "https://localhost:8080/"
        },
        "id": "27RimN0L-m3L",
        "outputId": "cf100e35-6a30-4113-a422-2bd653c4e14a"
      },
      "execution_count": null,
      "outputs": [
        {
          "output_type": "stream",
          "name": "stdout",
          "text": [
            "You: hi\n",
            "Bot: Hi there! What can I do for you?\n",
            "You: what are your working hours?\n",
            "Bot: We are open from 9 AM to 5 PM, Monday to Friday.\n",
            "You: thanks for your help\n",
            "Bot: Glad I could help!\n",
            "You: bye\n",
            "Bot: See you later!\n"
          ]
        }
      ]
    }
  ]
}